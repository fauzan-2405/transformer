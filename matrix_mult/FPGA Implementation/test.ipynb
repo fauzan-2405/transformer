{
 "cells": [
  {
   "cell_type": "code",
   "execution_count": null,
   "id": "bc5b0808",
   "metadata": {
    "vscode": {
     "languageId": "plaintext"
    }
   },
   "outputs": [],
   "source": [
    "from pynq import Overlay, allocate\n",
    "import numpy as np\n",
    "\n",
    "# RTL-defined Matrix Parameters\n",
    "I_OUTER_DIM = 8\n",
    "W_OUTER_DIM = 6\n",
    "INNER_DIM   = 4\n",
    "BLOCK_SIZE  = 2\n",
    "NUM_CORES   = 2\n",
    "\n",
    "# --- FPGA and Design Parameters ---\n",
    "INPUT_WIDTH_BITS = 64 * NUM_CORES\n",
    "WEIGHT_WIDTH_BITS = 64\n",
    "OUTPUT_WIDTH_BITS = 64 * NUM_CORES\n",
    "DATA_UNIT_BITS = 32  # uint32\n",
    "WORDS_PER_OUTPUT = OUTPUT_WIDTH_BITS // DATA_UNIT_BITS\n",
    "\n",
    "# Derived output size\n",
    "ROWS = I_OUTER_DIM // BLOCK_SIZE\n",
    "COLS = W_OUTER_DIM // BLOCK_SIZE\n",
    "TOTAL_OUTPUT_WORDS = (ROWS * COLS) // NUM_CORES\n",
    "OUTPUT_BUFFER_WORDS = TOTAL_OUTPUT_WORDS * WORDS_PER_OUTPUT\n",
    "\n",
    "# File paths\n",
    "INPUT_MEM_FILE = \"i.mem\"\n",
    "WEIGHT_MEM_FILE = \"w.mem\"\n",
    "OUTPUT_MEM_FILE = \"o.mem\"\n",
    "\n",
    "# --- Load Overlay ---\n",
    "overlay = Overlay(\"/home/xilinx/jupyter_notebooks/Matrix_Multiplier/design_1.bit\")\n",
    "print(\"Overlay loaded.\")"
   ]
  },
  {
   "cell_type": "code",
   "execution_count": null,
   "id": "6a559bda",
   "metadata": {
    "vscode": {
     "languageId": "plaintext"
    }
   },
   "outputs": [],
   "source": [
    "dma_i = overlay.axi_dma_0\n",
    "dma_w = overlay.axi_dma_1\n",
    "dma_o = overlay.axi_dma_2"
   ]
  },
  {
   "cell_type": "code",
   "execution_count": null,
   "id": "52135d24",
   "metadata": {
    "vscode": {
     "languageId": "plaintext"
    }
   },
   "outputs": [],
   "source": [
    "# --- Load HEX .mem File ---\n",
    "def load_mem_file(filename, word_bits):\n",
    "    with open(filename, \"r\") as f:\n",
    "        hex_data = f.read().replace(\"\\n\", \"\").strip()\n",
    "    word_hex_len = word_bits // 4\n",
    "    chunks = [hex_data[i:i+word_hex_len] for i in range(0, len(hex_data), word_hex_len)]\n",
    "    data = []\n",
    "    for word in chunks:\n",
    "        word = word.zfill(word_hex_len)\n",
    "        for i in range(0, len(word), 8):\n",
    "            data.append(int(word[len(word)-8-i:len(word)-i], 16))\n",
    "    return np.array(data, dtype=np.uint32)"
   ]
  },
  {
   "cell_type": "code",
   "execution_count": null,
   "id": "4d3ae3e8",
   "metadata": {
    "vscode": {
     "languageId": "plaintext"
    }
   },
   "outputs": [],
   "source": [
    "# --- Allocate Buffers ---\n",
    "input_buffer = allocate(shape=input_data.shape, dtype=np.uint32)\n",
    "weight_buffer = allocate(shape=weight_data.shape, dtype=np.uint32)\n",
    "output_buffer = allocate(shape=(OUTPUT_BUFFER_WORDS,), dtype=np.uint32)\n",
    "\n",
    "np.copyto(input_buffer, input_data)\n",
    "np.copyto(weight_buffer, weight_data)\n",
    "input_buffer.flush()\n",
    "weight_buffer.flush()"
   ]
  },
  {
   "cell_type": "code",
   "execution_count": null,
   "id": "b313b47a",
   "metadata": {
    "vscode": {
     "languageId": "plaintext"
    }
   },
   "outputs": [],
   "source": [
    "# --- Start Transfers ---\n",
    "dma_i.sendchannel.transfer(input_buffer)\n",
    "dma_w.sendchannel.transfer(weight_buffer)"
   ]
  },
  {
   "cell_type": "code",
   "execution_count": null,
   "id": "19f565ac",
   "metadata": {
    "vscode": {
     "languageId": "plaintext"
    }
   },
   "outputs": [],
   "source": [
    "dma_i.sendchannel.wait()\n",
    "dma_w.sendchannel.wait()"
   ]
  },
  {
   "cell_type": "code",
   "execution_count": null,
   "id": "41464871",
   "metadata": {
    "vscode": {
     "languageId": "plaintext"
    }
   },
   "outputs": [],
   "source": [
    "dma_o.recvchannel.transfer(output_buffer)"
   ]
  },
  {
   "cell_type": "code",
   "execution_count": null,
   "id": "b903cb16",
   "metadata": {
    "vscode": {
     "languageId": "plaintext"
    }
   },
   "outputs": [],
   "source": [
    "dma_o.recvchannel.wait()\n",
    "output_buffer.invalidate()"
   ]
  },
  {
   "cell_type": "code",
   "execution_count": null,
   "id": "61660b7d",
   "metadata": {
    "vscode": {
     "languageId": "plaintext"
    }
   },
   "outputs": [],
   "source": [
    "# --- Reconstruct Output Data ---\n",
    "output_chunks = output_buffer.reshape((-1, WORDS_PER_OUTPUT))\n",
    "output_words = [\n",
    "    ''.join(f\"{x:08x}\" for x in reversed(chunk)) for chunk in output_chunks\n",
    "]\n",
    "\n",
    "print(\"Output received (128-bit hex):\")\n",
    "for i, word in enumerate(output_words):\n",
    "    print(f\"Output {i}: {word}\")\n"
   ]
  },
  {
   "cell_type": "code",
   "execution_count": null,
   "id": "2f7f83f5",
   "metadata": {
    "vscode": {
     "languageId": "plaintext"
    }
   },
   "outputs": [],
   "source": [
    "with open(OUTPUT_MEM_FILE, \"w\") as f:\n",
    "    for word in output_words:\n",
    "        f.write(word + \"\\n\")\n",
    "\n",
    "print(f\"Saved output to {OUTPUT_MEM_FILE}\")"
   ]
  }
 ],
 "metadata": {
  "language_info": {
   "name": "python"
  }
 },
 "nbformat": 4,
 "nbformat_minor": 5
}
