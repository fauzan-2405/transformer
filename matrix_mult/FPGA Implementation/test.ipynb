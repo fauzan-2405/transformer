{
 "cells": [
  {
   "cell_type": "code",
   "execution_count": null,
   "id": "bc5b0808",
   "metadata": {
    "vscode": {
     "languageId": "plaintext"
    }
   },
   "outputs": [],
   "source": [
    "from pynq import Overlay, allocate\n",
    "import numpy as np\n",
    "\n",
    "# RTL-defined Matrix Parameters\n",
    "I_OUTER_DIM = 8\n",
    "W_OUTER_DIM = 6\n",
    "INNER_DIM   = 4\n",
    "BLOCK_SIZE  = 2\n",
    "NUM_CORES   = 2\n",
    "\n",
    "# --- FPGA and Design Parameters ---\n",
    "INPUT_WIDTH_BITS = 64 * NUM_CORES\n",
    "WEIGHT_WIDTH_BITS = 64\n",
    "OUTPUT_WIDTH_BITS = 64 * NUM_CORES\n",
    "DATA_UNIT_BITS = 32  # uint32\n",
    "WORDS_PER_OUTPUT = OUTPUT_WIDTH_BITS // DATA_UNIT_BITS\n",
    "\n",
    "# Derived output size\n",
    "ROWS = I_OUTER_DIM // BLOCK_SIZE\n",
    "COLS = W_OUTER_DIM // BLOCK_SIZE\n",
    "TOTAL_OUTPUT_WORDS = (ROWS * COLS) // NUM_CORES\n",
    "OUTPUT_BUFFER_WORDS = TOTAL_OUTPUT_WORDS * WORDS_PER_OUTPUT\n",
    "\n",
    "# File paths\n",
    "INPUT_MEM_FILE = \"i.mem\"\n",
    "WEIGHT_MEM_FILE = \"w.mem\"\n",
    "OUTPUT_MEM_FILE = \"o.mem\"\n",
    "\n",
    "# --- Load Overlay ---\n",
    "overlay = Overlay(\"/home/xilinx/jupyter_notebooks/Matrix_Multiplier/design_1.bit\")\n",
    "print(\"Overlay loaded.\")"
   ]
  },
  {
   "cell_type": "code",
   "execution_count": null,
   "id": "6a559bda",
   "metadata": {
    "vscode": {
     "languageId": "plaintext"
    }
   },
   "outputs": [],
   "source": [
    "dma_i = overlay.axi_dma_0\n",
    "dma_w = overlay.axi_dma_1\n",
    "dma_o = overlay.axi_dma_2"
   ]
  },
  {
   "cell_type": "code",
   "execution_count": null,
   "id": "52135d24",
   "metadata": {
    "vscode": {
     "languageId": "plaintext"
    }
   },
   "outputs": [],
   "source": [
    "# --- Load HEX .mem File ---\n",
    "def load_mem_file(filename, word_bits):\n",
    "    with open(filename, \"r\") as f:\n",
    "        hex_data = f.read().replace(\"\\n\", \"\").strip()\n",
    "    word_hex_len = word_bits // 4\n",
    "    chunks = [hex_data[i:i+word_hex_len] for i in range(0, len(hex_data), word_hex_len)]\n",
    "    data = []\n",
    "    for word in chunks:\n",
    "        word = word.zfill(word_hex_len)\n",
    "        for i in range(0, len(word), 8):\n",
    "            data.append(int(word[len(word)-8-i:len(word)-i], 16))\n",
    "    return np.array(data, dtype=np.uint32)"
   ]
  },
  {
   "cell_type": "code",
   "execution_count": null,
   "id": "b4a207bb",
   "metadata": {
    "vscode": {
     "languageId": "plaintext"
    }
   },
   "outputs": [],
   "source": [
    "# --- Load Inputs ---\n",
    "input_data = load_mem_file(INPUT_MEM_FILE, INPUT_WIDTH_BITS)\n",
    "weight_data = load_mem_file(WEIGHT_MEM_FILE, WEIGHT_WIDTH_BITS)"
   ]
  },
  {
   "cell_type": "code",
   "execution_count": null,
   "id": "4d3ae3e8",
   "metadata": {
    "vscode": {
     "languageId": "plaintext"
    }
   },
   "outputs": [],
   "source": [
    "# --- Allocate Buffers ---\n",
    "input_buffer = allocate(shape=input_data.shape, dtype=np.uint32)\n",
    "weight_buffer = allocate(shape=weight_data.shape, dtype=np.uint32)\n",
    "output_buffer = allocate(shape=(OUTPUT_BUFFER_WORDS,), dtype=np.uint32)\n",
    "\n",
    "np.copyto(input_buffer, input_data)\n",
    "np.copyto(weight_buffer, weight_data)\n",
    "input_buffer.flush()\n",
    "weight_buffer.flush()"
   ]
  },
  {
   "cell_type": "code",
   "execution_count": null,
   "id": "bc6975a8",
   "metadata": {
    "vscode": {
     "languageId": "plaintext"
    }
   },
   "outputs": [],
   "source": [
    "print(f\"Input buffer size: {input_buffer.nbytes} bytes ({input_buffer.shape[0]} words)\")\n",
    "print(f\"Weight buffer size: {weight_buffer.nbytes} bytes ({weight_buffer.shape[0]} words)\")\n",
    "print(f\"Output buffer size: {output_buffer.nbytes} bytes ({output_buffer.shape[0]} words)\")"
   ]
  },
  {
   "cell_type": "code",
   "execution_count": null,
   "id": "93e2de08",
   "metadata": {
    "vscode": {
     "languageId": "plaintext"
    }
   },
   "outputs": [],
   "source": [
    "def print_hex_chunks(data_array, bits_per_word, label):\n",
    "    print(f\"\\n{label} contents ({bits_per_word}-bit words):\")\n",
    "    words_per_line = bits_per_word // 32\n",
    "    reshaped = data_array.reshape((-1, words_per_line))\n",
    "    for i, line in enumerate(reshaped):\n",
    "        hex_word = ''.join(f\"{x:08x}\" for x in reversed(line))\n",
    "        print(f\"{label} {i}: {hex_word}\")\n",
    "\n",
    "print_hex_chunks(input_buffer, INPUT_WIDTH_BITS, \"Input\")\n",
    "print_hex_chunks(weight_buffer, WEIGHT_WIDTH_BITS, \"Weight\")"
   ]
  },
  {
   "cell_type": "code",
   "execution_count": null,
   "id": "b313b47a",
   "metadata": {
    "vscode": {
     "languageId": "plaintext"
    }
   },
   "outputs": [],
   "source": [
    "# --- Start Transfers ---\n",
    "dma_o.recvchannel.transfer(output_buffer)\n",
    "dma_i.sendchannel.transfer(input_buffer)\n",
    "dma_w.sendchannel.transfer(weight_buffer)"
   ]
  },
  {
   "cell_type": "code",
   "execution_count": null,
   "id": "b903cb16",
   "metadata": {
    "vscode": {
     "languageId": "plaintext"
    }
   },
   "outputs": [],
   "source": [
    "output_buffer.invalidate()\n",
    "print_hex_chunks(output_buffer, OUTPUT_WIDTH_BITS, \"Output\")"
   ]
  },
  {
   "cell_type": "code",
   "execution_count": null,
   "id": "61660b7d",
   "metadata": {
    "vscode": {
     "languageId": "plaintext"
    }
   },
   "outputs": [],
   "source": [
    "# --- Reconstruct Output Data ---\n",
    "output_chunks = output_buffer.reshape((-1, WORDS_PER_OUTPUT))\n",
    "output_words = [\n",
    "    ''.join(f\"{x:08x}\" for x in reversed(chunk)) for chunk in output_chunks\n",
    "]\n",
    "\n",
    "print(\"Output received (128-bit hex):\")\n",
    "for i, word in enumerate(output_words):\n",
    "    print(f\"Output {i}: {word}\")\n"
   ]
  },
  {
   "cell_type": "code",
   "execution_count": null,
   "id": "2f7f83f5",
   "metadata": {
    "vscode": {
     "languageId": "plaintext"
    }
   },
   "outputs": [],
   "source": [
    "with open(OUTPUT_MEM_FILE, \"w\") as f:\n",
    "    for word in output_words:\n",
    "        f.write(word + \"\\n\")\n",
    "\n",
    "print(f\"Saved output to {OUTPUT_MEM_FILE}\")"
   ]
  },
  {
   "cell_type": "code",
   "execution_count": null,
   "id": "0a5dba2e",
   "metadata": {
    "vscode": {
     "languageId": "plaintext"
    }
   },
   "outputs": [],
   "source": [
    "# Delete buffer to prevent memory leak\n",
    "del input_buffer, weight_buffer, output_buffer"
   ]
  }
 ],
 "metadata": {
  "language_info": {
   "name": "python"
  }
 },
 "nbformat": 4,
 "nbformat_minor": 5
}
